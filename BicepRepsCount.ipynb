{
 "cells": [
  {
   "cell_type": "code",
   "execution_count": 3,
   "metadata": {},
   "outputs": [
    {
     "ename": "ModuleNotFoundError",
     "evalue": "No module named 'mediapipe'",
     "output_type": "error",
     "traceback": [
      "\u001b[1;31m---------------------------------------------------------------------------\u001b[0m",
      "\u001b[1;31mModuleNotFoundError\u001b[0m                       Traceback (most recent call last)",
      "\u001b[1;32m~\\AppData\\Local\\Temp\\ipykernel_8148\\2159360444.py\u001b[0m in \u001b[0;36m<module>\u001b[1;34m\u001b[0m\n\u001b[1;32m----> 1\u001b[1;33m \u001b[1;32mimport\u001b[0m \u001b[0mmediapipe\u001b[0m \u001b[1;32mas\u001b[0m \u001b[0mmp\u001b[0m\u001b[1;33m\u001b[0m\u001b[1;33m\u001b[0m\u001b[0m\n\u001b[0m\u001b[0;32m      2\u001b[0m \u001b[1;32mimport\u001b[0m \u001b[0mnumpy\u001b[0m \u001b[1;32mas\u001b[0m \u001b[0mnp\u001b[0m\u001b[1;33m\u001b[0m\u001b[1;33m\u001b[0m\u001b[0m\n\u001b[0;32m      3\u001b[0m \u001b[1;32mimport\u001b[0m \u001b[0mcv2\u001b[0m\u001b[1;33m\u001b[0m\u001b[1;33m\u001b[0m\u001b[0m\n",
      "\u001b[1;31mModuleNotFoundError\u001b[0m: No module named 'mediapipe'"
     ]
    }
   ],
   "source": [
    "import mediapipe as mp\n",
    "import numpy as np\n",
    "import cv2"
   ]
  },
  {
   "cell_type": "markdown",
   "metadata": {},
   "source": [
    "## Create drawing & pose"
   ]
  },
  {
   "cell_type": "code",
   "execution_count": 14,
   "metadata": {},
   "outputs": [],
   "source": [
    "mp_drawing = mp.solutions.drawing_utils\n",
    "mp_pose = mp.solutions.pose"
   ]
  },
  {
   "cell_type": "markdown",
   "metadata": {},
   "source": [
    "## Load Video for Webcam"
   ]
  },
  {
   "cell_type": "code",
   "execution_count": 7,
   "metadata": {},
   "outputs": [],
   "source": [
    "cap = cv2.VideoCapture(0)\n",
    "while cap.isOpened():\n",
    "    ret, frame = cap. read()\n",
    "    cv2.imshow('Mediapipe feed', frame)\n",
    "    \n",
    "    if cv2.waitKey(10) & 0xFF == ord('q'):\n",
    "        break\n",
    "cap.release()\n",
    "cv2.destroyAllWindows()"
   ]
  },
  {
   "cell_type": "markdown",
   "metadata": {},
   "source": [
    "## Detection"
   ]
  },
  {
   "cell_type": "code",
   "execution_count": 13,
   "metadata": {},
   "outputs": [],
   "source": [
    "mp_drawing = mp.solutions.drawing_utils\n",
    "mp_pose = mp.solutions.pose\n",
    "\n",
    "cap = cv2.VideoCapture(0)\n",
    "\n",
    "# Instance Mediapipe\n",
    "# Pose accessing Pose estimation model\n",
    "with mp_pose.Pose(min_detection_confidence = 0.5,\n",
    "                  min_tracking_confidence = 0.5) as pose:\n",
    "    \n",
    "    while cap.isOpened():\n",
    "        ret, frame = cap.read()\n",
    "        if not ret:\n",
    "            print(\"Ignoring empty camera frame.\")\n",
    "            # If loading a video, use 'break' instead of 'continue'.\n",
    "            continue\n",
    "\n",
    "        # Detect & render\n",
    "        \n",
    "        # Recolor to RGB\n",
    "        image = cv2.cvtColor(frame, cv2.COLOR_BGR2RGB)\n",
    "        image.flags.writeable = False\n",
    "        \n",
    "        # Make detection\n",
    "        results = pose.process(image)\n",
    "        results = pose.process(image)\n",
    "        \n",
    "        # Recolor to BGR\n",
    "        image.flags.writeable = True\n",
    "        image = cv2.cvtColor(image, cv2.COLOR_RGB2BGR)\n",
    "        \n",
    "#         print(results)\n",
    "        \n",
    "        \n",
    "        # Render detections\n",
    "        mp_drawing.draw_landmarks(\n",
    "        image, \n",
    "        results.pose_landmarks,\n",
    "        mp_pose.POSE_CONNECTIONS,\n",
    "        mp_drawing.DrawingSpec(color=(36, 182, 255), thickness=2, circle_radius=2),\n",
    "        mp_drawing.DrawingSpec(color=(10,226,130), thickness=2, circle_radius=2)\n",
    "        )\n",
    "#         mp_drawing.draw_landmarks(image, \n",
    "#                                   results.pose_landmarks,\n",
    "#                                   mp_pose.POSE_CONNECTIONS)\n",
    "        \n",
    "        \n",
    "        \n",
    "        \n",
    "        cv2.imshow('Mediapipe feed', image)\n",
    "        if cv2.waitKey(10) & 0xFF == ord('q'):\n",
    "            break\n",
    "    cap.release()\n",
    "    cv2.destroyAllWindows()"
   ]
  },
  {
   "cell_type": "code",
   "execution_count": 27,
   "metadata": {},
   "outputs": [
    {
     "name": "stdout",
     "output_type": "stream",
     "text": [
      "Python 3.8.3\n"
     ]
    }
   ],
   "source": [
    "!python -V"
   ]
  },
  {
   "cell_type": "markdown",
   "metadata": {},
   "source": [
    "# Joints"
   ]
  },
  {
   "cell_type": "markdown",
   "metadata": {},
   "source": [
    "<img src=\"https://google.github.io/mediapipe/images/mobile/pose_tracking_full_body_landmarks.png\" style=\"height:300px\">"
   ]
  },
  {
   "cell_type": "code",
   "execution_count": 18,
   "metadata": {},
   "outputs": [],
   "source": [
    "mp_drawing = mp.solutions.drawing_utils\n",
    "mp_pose = mp.solutions.pose\n",
    "\n",
    "cap = cv2.VideoCapture(0)\n",
    "\n",
    "# Instance Mediapipe\n",
    "# Pose accessing Pose estimation model\n",
    "with mp_pose.Pose(min_detection_confidence = 0.5,\n",
    "                  min_tracking_confidence = 0.5) as pose:\n",
    "    \n",
    "    while cap.isOpened():\n",
    "        ret, frame = cap.read()\n",
    "        if not ret:\n",
    "            print(\"Ignoring empty camera frame.\")\n",
    "            # If loading a video, use 'break' instead of 'continue'.\n",
    "            continue\n",
    "\n",
    "        # Detect & render\n",
    "        \n",
    "        # Recolor to RGB\n",
    "        image = cv2.cvtColor(frame, cv2.COLOR_BGR2RGB)\n",
    "        image.flags.writeable = False\n",
    "        \n",
    "        # Make detection\n",
    "        results = pose.process(image)\n",
    "        results = pose.process(image)\n",
    "        \n",
    "        # Recolor to BGR\n",
    "        image.flags.writeable = True\n",
    "        image = cv2.cvtColor(image, cv2.COLOR_RGB2BGR)\n",
    "\n",
    "        # Extrack Landmarks\n",
    "        try:\n",
    "            landmarks = results.pose_landmarks.landmark\n",
    "        except:\n",
    "            pass\n",
    "        \n",
    "        \n",
    "        # Render detections\n",
    "        mp_drawing.draw_landmarks(\n",
    "        image, \n",
    "        results.pose_landmarks,\n",
    "        mp_pose.POSE_CONNECTIONS,\n",
    "        mp_drawing.DrawingSpec(color=(36, 182, 255), thickness=2, circle_radius=2),\n",
    "        mp_drawing.DrawingSpec(color=(10,226,130), thickness=2, circle_radius=2)\n",
    "        )\n",
    "#         mp_drawing.draw_landmarks(image, \n",
    "#                                   results.pose_landmarks,\n",
    "#                                   mp_pose.POSE_CONNECTIONS)\n",
    "        \n",
    "        \n",
    "        \n",
    "        \n",
    "        cv2.imshow('Mediapipe feed', image)\n",
    "        if cv2.waitKey(10) & 0xFF == ord('q'):\n",
    "            break\n",
    "    cap.release()\n",
    "    cv2.destroyAllWindows()"
   ]
  },
  {
   "cell_type": "markdown",
   "metadata": {},
   "source": [
    "# Extract Landmarks"
   ]
  },
  {
   "cell_type": "markdown",
   "metadata": {},
   "source": [
    "### Calculate left_shoulder 11"
   ]
  },
  {
   "cell_type": "code",
   "execution_count": 23,
   "metadata": {},
   "outputs": [
    {
     "data": {
      "text/plain": [
       "x: 0.44907230138778687\n",
       "y: 1.0457433462142944\n",
       "z: -0.5195037126541138\n",
       "visibility: 0.7731788158416748"
      ]
     },
     "execution_count": 23,
     "metadata": {},
     "output_type": "execute_result"
    }
   ],
   "source": [
    "landmarks[mp_pose.PoseLandmark.LEFT_SHOULDER.value]"
   ]
  },
  {
   "cell_type": "markdown",
   "metadata": {},
   "source": [
    "### Calculate left_elbow 13"
   ]
  },
  {
   "cell_type": "code",
   "execution_count": 21,
   "metadata": {},
   "outputs": [
    {
     "data": {
      "text/plain": [
       "x: 0.5006009936332703\n",
       "y: 1.2941648960113525\n",
       "z: -0.8628919720649719\n",
       "visibility: 0.20045000314712524"
      ]
     },
     "execution_count": 21,
     "metadata": {},
     "output_type": "execute_result"
    }
   ],
   "source": [
    "landmarks[mp_pose.PoseLandmark.LEFT_ELBOW.value]"
   ]
  },
  {
   "cell_type": "markdown",
   "metadata": {},
   "source": [
    "### Calculate left_wrist 15"
   ]
  },
  {
   "cell_type": "code",
   "execution_count": 22,
   "metadata": {
    "scrolled": true
   },
   "outputs": [
    {
     "data": {
      "text/plain": [
       "x: 0.348320335149765\n",
       "y: 1.2111412286758423\n",
       "z: -1.218215823173523\n",
       "visibility: 0.125141441822052"
      ]
     },
     "execution_count": 22,
     "metadata": {},
     "output_type": "execute_result"
    }
   ],
   "source": [
    "landmarks[mp_pose.PoseLandmark.LEFT_WRIST.value]"
   ]
  },
  {
   "cell_type": "markdown",
   "metadata": {},
   "source": [
    "# Calculate Angels"
   ]
  },
  {
   "cell_type": "code",
   "execution_count": 11,
   "metadata": {},
   "outputs": [],
   "source": [
    "def calculate_angle(a,b,c):\n",
    "    # Converting the landmarks to np.arrays\n",
    "    a = np.array(a) # First\n",
    "    b = np.array(b) # Mid\n",
    "    c = np.array(c) # End\n",
    "    \n",
    "    # arctan(End.y - Mid.y, End.x - Mid.x) - arctan(First.y - Mid.y, First.x - Mid.x)\n",
    "    radians = np.arctan2(c[1]-b[1], c[0]-b[0]) - np.arctan2(a[1]-b[1], c[0]-b[0])\n",
    "    angle = np.abs(radians*180.0/np.pi)\n",
    "    \n",
    "    if angle > 180.0:\n",
    "        angle = 360-angle\n",
    "    return angle"
   ]
  },
  {
   "cell_type": "markdown",
   "metadata": {},
   "source": [
    "### Get x,y of points Shoulder, Elbow, Wrist"
   ]
  },
  {
   "cell_type": "code",
   "execution_count": 32,
   "metadata": {},
   "outputs": [],
   "source": [
    "Lshoulder = [landmarks[mp_pose.PoseLandmark.LEFT_SHOULDER.value].x,landmarks[mp_pose.PoseLandmark.LEFT_SHOULDER.value].y]\n",
    "\n",
    "Rshoulder = [landmarks[mp_pose.PoseLandmark.RIGHT_SHOULDER.value].x,landmarks[mp_pose.PoseLandmark.RIGHT_SHOULDER.value].y]"
   ]
  },
  {
   "cell_type": "code",
   "execution_count": 36,
   "metadata": {},
   "outputs": [],
   "source": [
    "Lelbow = [landmarks[mp_pose.PoseLandmark.LEFT_ELBOW.value].x,landmarks[mp_pose.PoseLandmark.LEFT_ELBOW.value].y]\n",
    "\n",
    "Relbow = [landmarks[mp_pose.PoseLandmark.RIGHT_ELBOW.value].x,landmarks[mp_pose.PoseLandmark.RIGHT_ELBOW.value].y]"
   ]
  },
  {
   "cell_type": "code",
   "execution_count": 40,
   "metadata": {},
   "outputs": [],
   "source": [
    "Lwrist = [landmarks[mp_pose.PoseLandmark.LEFT_WRIST.value].x,landmarks[mp_pose.PoseLandmark.LEFT_WRIST.value].y]\n",
    "\n",
    "Rwrist = [landmarks[mp_pose.PoseLandmark.RIGHT_WRIST.value].x,landmarks[mp_pose.PoseLandmark.RIGHT_WRIST.value].y]"
   ]
  },
  {
   "cell_type": "code",
   "execution_count": 46,
   "metadata": {},
   "outputs": [
    {
     "data": {
      "text/plain": [
       "29.89270499217332"
      ]
     },
     "execution_count": 46,
     "metadata": {},
     "output_type": "execute_result"
    }
   ],
   "source": [
    "calculate_angle(Lshoulder,Lelbow,Lwrist)"
   ]
  },
  {
   "cell_type": "code",
   "execution_count": 47,
   "metadata": {},
   "outputs": [
    {
     "data": {
      "text/plain": [
       "10.251837329895539"
      ]
     },
     "execution_count": 47,
     "metadata": {},
     "output_type": "execute_result"
    }
   ],
   "source": [
    "calculate_angle(Rshoulder,Relbow,Rwrist)"
   ]
  },
  {
   "cell_type": "code",
   "execution_count": null,
   "metadata": {},
   "outputs": [],
   "source": []
  },
  {
   "cell_type": "code",
   "execution_count": 59,
   "metadata": {},
   "outputs": [
    {
     "name": "stdout",
     "output_type": "stream",
     "text": [
      "1\n",
      "2\n",
      "3\n",
      "4\n",
      "5\n"
     ]
    }
   ],
   "source": [
    "mp_drawing = mp.solutions.drawing_utils\n",
    "mp_pose = mp.solutions.pose\n",
    "\n",
    "cap = cv2.VideoCapture(0)\n",
    "\n",
    "counter = 0\n",
    "stage = None\n",
    "\n",
    "# Instance Mediapipe\n",
    "# Pose accessing Pose estimation model\n",
    "with mp_pose.Pose(min_detection_confidence = 0.5,\n",
    "                  min_tracking_confidence = 0.5) as pose:\n",
    "    \n",
    "    while cap.isOpened():\n",
    "        ret, frame = cap.read()\n",
    "        if not ret:\n",
    "            print(\"Ignoring empty camera frame.\")\n",
    "            # If loading a video, use 'break' instead of 'continue'.\n",
    "            continue\n",
    "\n",
    "        # Detect & render\n",
    "        \n",
    "        # Recolor to RGB\n",
    "        image = cv2.cvtColor(frame, cv2.COLOR_BGR2RGB)\n",
    "        image.flags.writeable = False\n",
    "        \n",
    "        # Make detection\n",
    "        results = pose.process(image)\n",
    "        results = pose.process(image)\n",
    "        \n",
    "        # Recolor to BGR\n",
    "        image.flags.writeable = True\n",
    "        image = cv2.cvtColor(image, cv2.COLOR_RGB2BGR)\n",
    "\n",
    "        # Extrack Landmarks\n",
    "        try:\n",
    "            landmarks = results.pose_landmarks.landmark\n",
    "            \n",
    "            # Get coordinates\n",
    "            Lshoulder = [landmarks[mp_pose.PoseLandmark.LEFT_SHOULDER.value].x,landmarks[mp_pose.PoseLandmark.LEFT_SHOULDER.value].y]\n",
    "            Lelbow = [landmarks[mp_pose.PoseLandmark.LEFT_ELBOW.value].x,landmarks[mp_pose.PoseLandmark.LEFT_ELBOW.value].y]\n",
    "            Lwrist = [landmarks[mp_pose.PoseLandmark.LEFT_WRIST.value].x,landmarks[mp_pose.PoseLandmark.LEFT_WRIST.value].y]\n",
    "            \n",
    "            # Calculate angle\n",
    "            angle = calculate_angle(Lshoulder, Lelbow, Lwrist)\n",
    "            \n",
    "            # Visualize angle\n",
    "            cv2.putText(image, str(angle),\n",
    "                       tuple(np.multiply(Lelbow, [640,480]).astype(int)),\n",
    "                        cv2.FONT_HERSHEY_SIMPLEX,\n",
    "                        0.5, (255,255,255),2, cv2.LINE_AA\n",
    "                       )\n",
    "            \n",
    "            # Curl Counter logic\n",
    "            if angle > 155:\n",
    "                stage = \"down\"\n",
    "            if angle < 30 and stage ==\"down\":\n",
    "                stage=\"up\"\n",
    "                counter+=1\n",
    "                print(counter)\n",
    "                \n",
    "#             if counter>=10:\n",
    "                \n",
    "        except:\n",
    "            pass\n",
    "        \n",
    "        \n",
    "        # Render curl counter\n",
    "        # Setup status box\n",
    "        cv2.rectangle(image, (0,0),(255,73),(245,117,16),-1)\n",
    "        \n",
    "        # Reps \n",
    "        cv2.putText(image, 'REPS',\n",
    "                    (15,12),\n",
    "                    cv2.FONT_HERSHEY_SIMPLEX,\n",
    "                    0.5, (0,0,0),1, cv2.LINE_AA)\n",
    "        \n",
    "        cv2.putText(image,str(counter), \n",
    "                    (10,60),\n",
    "                    cv2.FONT_HERSHEY_SIMPLEX,\n",
    "                    2, (255,255,255),2, cv2.LINE_AA)\n",
    "        \n",
    "        cv2.putText(image, 'Stage',\n",
    "            (65,12),\n",
    "            cv2.FONT_HERSHEY_SIMPLEX,\n",
    "            0.5, (0,0,0),1, cv2.LINE_AA)\n",
    "\n",
    "        cv2.putText(image,stage, \n",
    "                    (60,60),\n",
    "                    cv2.FONT_HERSHEY_SIMPLEX,\n",
    "                    2, (255,255,255),2, cv2.LINE_AA)\n",
    "        # Render detections\n",
    "        mp_drawing.draw_landmarks(\n",
    "        image, \n",
    "        results.pose_landmarks,\n",
    "        mp_pose.POSE_CONNECTIONS,\n",
    "        mp_drawing.DrawingSpec(color=(36, 182, 255), thickness=2, circle_radius=2),\n",
    "        mp_drawing.DrawingSpec(color=(10,226,130), thickness=2, circle_radius=2)\n",
    "        )\n",
    "#         mp_drawing.draw_landmarks(image, \n",
    "#                                   results.pose_landmarks,\n",
    "#                                   mp_pose.POSE_CONNECTIONS)\n",
    "        \n",
    "        \n",
    "        \n",
    "        \n",
    "        cv2.imshow('Mediapipe feed', image)\n",
    "        if cv2.waitKey(10) & 0xFF == ord('q'):\n",
    "            break\n",
    "    cap.release()\n",
    "    cv2.destroyAllWindows()"
   ]
  },
  {
   "cell_type": "code",
   "execution_count": null,
   "metadata": {},
   "outputs": [],
   "source": []
  },
  {
   "cell_type": "code",
   "execution_count": null,
   "metadata": {},
   "outputs": [],
   "source": []
  },
  {
   "cell_type": "code",
   "execution_count": 28,
   "metadata": {},
   "outputs": [
    {
     "name": "stdout",
     "output_type": "stream",
     "text": [
      "DANGER\n",
      "1\n",
      "DANGER\n",
      "2\n",
      "DANGER\n",
      "3\n",
      "DANGER\n",
      "4\n",
      "DANGER\n",
      "5\n",
      "6\n",
      "DANGER\n",
      "7\n",
      "DANGER\n",
      "8\n",
      "1\n",
      "2\n",
      "DANGER\n",
      "9\n",
      "3\n",
      "DANGER\n",
      "10\n",
      "4\n"
     ]
    }
   ],
   "source": [
    "mp_drawing = mp.solutions.drawing_utils\n",
    "mp_pose = mp.solutions.pose\n",
    "\n",
    "cap = cv2.VideoCapture(0)\n",
    "\n",
    "counter = 0\n",
    "stage = None\n",
    "\n",
    "Lstage = None\n",
    "Rstage = None\n",
    "Lcounter = 0\n",
    "Rcounter = 0\n",
    "width = 640\n",
    "height = 480\n",
    "# cap\n",
    "cap.set(cv2.CAP_PROP_FRAME_WIDTH, width)\n",
    "cap.set(cv2.CAP_PROP_FRAME_HEIGHT, height)\n",
    "# Instance Mediapipe\n",
    "# Pose accessing Pose estimation model\n",
    "with mp_pose.Pose(min_detection_confidence = 0.5,\n",
    "                  min_tracking_confidence = 0.5) as pose:\n",
    "    \n",
    "    while cap.isOpened():\n",
    "        ret, frame = cap.read()\n",
    "        if not ret:\n",
    "            print(\"Ignoring empty camera frame.\")\n",
    "            # If loading a video, use 'break' instead of 'continue'.\n",
    "            continue\n",
    "\n",
    "        # Detect & render\n",
    "        \n",
    "        # Recolor to RGB\n",
    "        image = cv2.cvtColor(frame, cv2.COLOR_BGR2RGB)\n",
    "        image.flags.writeable = False\n",
    "        \n",
    "        # Make detection\n",
    "        results = pose.process(image)\n",
    "\n",
    "        \n",
    "        # Recolor to BGR\n",
    "        image.flags.writeable = True\n",
    "        image = cv2.cvtColor(image, cv2.COLOR_RGB2BGR)\n",
    "\n",
    "        # Extrack Landmarks\n",
    "        try:\n",
    "            landmarks = results.pose_landmarks.landmark\n",
    "            \n",
    "            # Get coordinates\n",
    "            Lshoulder = [landmarks[mp_pose.PoseLandmark.LEFT_SHOULDER.value].x,landmarks[mp_pose.PoseLandmark.LEFT_SHOULDER.value].y]\n",
    "            Lelbow = [landmarks[mp_pose.PoseLandmark.LEFT_ELBOW.value].x,landmarks[mp_pose.PoseLandmark.LEFT_ELBOW.value].y]\n",
    "            Lwrist = [landmarks[mp_pose.PoseLandmark.LEFT_WRIST.value].x,landmarks[mp_pose.PoseLandmark.LEFT_WRIST.value].y]\n",
    "            \n",
    "            Rshoulder = [landmarks[mp_pose.PoseLandmark.RIGHT_SHOULDER.value].x,landmarks[mp_pose.PoseLandmark.RIGHT_SHOULDER.value].y]\n",
    "            Relbow = [landmarks[mp_pose.PoseLandmark.RIGHT_ELBOW.value].x,landmarks[mp_pose.PoseLandmark.RIGHT_ELBOW.value].y]\n",
    "            Rwrist = [landmarks[mp_pose.PoseLandmark.RIGHT_WRIST.value].x,landmarks[mp_pose.PoseLandmark.RIGHT_WRIST.value].y]\n",
    "            \n",
    "            \n",
    "            # Calculate angle\n",
    "            Langle = calculate_angle(Lshoulder, Lelbow, Lwrist)\n",
    "            Rangle = calculate_angle(Rshoulder, Relbow, Rwrist)\n",
    "            # Visualize angle\n",
    "            cv2.putText(image, str(Langle),\n",
    "                       tuple(np.multiply(Lelbow, [width,height]).astype(int)),\n",
    "                        cv2.FONT_HERSHEY_SIMPLEX,\n",
    "                        0.5, (255,255,255),2, cv2.LINE_AA\n",
    "                       )\n",
    "            \n",
    "            cv2.putText(image, str(Rangle),\n",
    "                       tuple(np.multiply(Relbow, [width,height]).astype(int)),\n",
    "                        cv2.FONT_HERSHEY_SIMPLEX,\n",
    "                        0.5, (255,255,255),2, cv2.LINE_AA\n",
    "                       )\n",
    "            \n",
    "            \n",
    "            \n",
    "            # Chech positions elbows\n",
    "#             pick_xL = Lelbow[0]*width\n",
    "#             pick_xR = Relbow[0]*width\n",
    "            \n",
    "#             if Langle > 155:\n",
    "#                 pick_xL = Lelbow[0]*width\n",
    "#             if Langle < 30 and Lstage ==\"down\":\n",
    "#                 if pick_xL+45 > Lelbow[0]*width:\n",
    "#                     print(\"DANGER\")\n",
    "            \n",
    "#             if pick_xL >pick_xL+10 and Lstage ==\"down\":\n",
    "#                 print(\"DANGER\")\n",
    "#                 print(pick_xL)\n",
    "#                 Lstage = \"down\"\n",
    "#                 cv2.putText(image, str(Rangle),\n",
    "#                    tuple(np.multiply(Relbow, [width,height]).astype(int)),\n",
    "#                     cv2.FONT_HERSHEY_SIMPLEX,\n",
    "#                     0.5, (255,255,255),2, cv2.LINE_AA\n",
    "#                    )\n",
    "            \n",
    "            \n",
    "            # Curl Counter logic\n",
    "            if Langle > 155:\n",
    "                Lstage = \"down\"\n",
    "#                 pick_xL = Lelbow[0]*width\n",
    "            if Langle < 30 and Lstage ==\"down\":\n",
    "                Lstage=\"up\"\n",
    "#                 if pick_xL+45 > Lelbow[0]*width:\n",
    "#                     print(\"DANGER\")\n",
    "                Lcounter+=1\n",
    "                print(Lcounter)\n",
    "                \n",
    "            if Rangle > 155:\n",
    "                Rstage = \"down\"\n",
    "            if Rangle < 30 and Rstage ==\"down\":\n",
    "                Rstage=\"up\"\n",
    "                Rcounter+=1\n",
    "                print(Rcounter)\n",
    "#             if counter>=10:\n",
    "                \n",
    "        except:\n",
    "            pass\n",
    "        \n",
    "        \n",
    "        # Render curl counter\n",
    "        # Setup status boxes\n",
    "        cv2.rectangle(image, (0,0),(255,73),(245,117,16),-1) # Left\n",
    "        cv2.rectangle(image, (640,0),(255,73),(245,117,16),-1) # Right\n",
    "        \n",
    "        # Reps \n",
    "        cv2.putText(image, 'REPS',\n",
    "                    (15,12),\n",
    "                    cv2.FONT_HERSHEY_SIMPLEX,\n",
    "                    0.5, (0,0,0),1, cv2.LINE_AA)\n",
    "        \n",
    "        cv2.putText(image,str(Lcounter), \n",
    "                    (10,60),\n",
    "                    cv2.FONT_HERSHEY_SIMPLEX,\n",
    "                    2, (255,255,255),2, cv2.LINE_AA)\n",
    "        \n",
    "        cv2.putText(image, 'Stage',\n",
    "            (65,12),\n",
    "            cv2.FONT_HERSHEY_SIMPLEX,\n",
    "            0.5, (0,0,0),1, cv2.LINE_AA)\n",
    "\n",
    "        cv2.putText(image,Lstage, \n",
    "                    (60,60),\n",
    "                    cv2.FONT_HERSHEY_SIMPLEX,\n",
    "                    2, (255,255,255),2, cv2.LINE_AA)\n",
    "        \n",
    "        \n",
    "        # Reps \n",
    "        cv2.putText(image, 'REPS',\n",
    "                    (480,12),\n",
    "                    cv2.FONT_HERSHEY_SIMPLEX,\n",
    "                    0.5, (0,0,0),1, cv2.LINE_AA)\n",
    "        \n",
    "        cv2.putText(image,str(Rcounter), \n",
    "                    (485,60),\n",
    "                    cv2.FONT_HERSHEY_SIMPLEX,\n",
    "                    2, (255,255,255),2, cv2.LINE_AA)\n",
    "        \n",
    "        cv2.putText(image, 'Stage',\n",
    "            (530,12),\n",
    "            cv2.FONT_HERSHEY_SIMPLEX,\n",
    "            0.5, (0,0,0),1, cv2.LINE_AA)\n",
    "\n",
    "        cv2.putText(image,Rstage, \n",
    "                    (530,60),\n",
    "                    cv2.FONT_HERSHEY_SIMPLEX,\n",
    "                    2, (255,255,255),2, cv2.LINE_AA)\n",
    "        \n",
    "        # Render detections\n",
    "        mp_drawing.draw_landmarks(\n",
    "        image, \n",
    "        results.pose_landmarks,\n",
    "        mp_pose.POSE_CONNECTIONS,\n",
    "        mp_drawing.DrawingSpec(color=(36, 182, 255), thickness=2, circle_radius=2),\n",
    "        mp_drawing.DrawingSpec(color=(10,226,130), thickness=2, circle_radius=2)\n",
    "        )\n",
    "#         mp_drawing.draw_landmarks(image, \n",
    "#                                   results.pose_landmarks,\n",
    "#                                   mp_pose.POSE_CONNECTIONS)\n",
    "        \n",
    "        \n",
    "        \n",
    "        \n",
    "        cv2.imshow('Mediapipe feed', image)\n",
    "        if cv2.waitKey(10) & 0xFF == ord('q'):\n",
    "            break\n",
    "    cap.release()\n",
    "    cv2.destroyAllWindows()"
   ]
  },
  {
   "cell_type": "code",
   "execution_count": 4,
   "metadata": {},
   "outputs": [
    {
     "data": {
      "text/plain": [
       "3"
      ]
     },
     "execution_count": 4,
     "metadata": {},
     "output_type": "execute_result"
    }
   ],
   "source": [
    "cv2.CAP_PROP_FRAME_WIDTH"
   ]
  },
  {
   "cell_type": "code",
   "execution_count": null,
   "metadata": {},
   "outputs": [],
   "source": []
  }
 ],
 "metadata": {
  "kernelspec": {
   "display_name": "Python 3.7.9 64-bit",
   "language": "python",
   "name": "python3"
  },
  "language_info": {
   "codemirror_mode": {
    "name": "ipython",
    "version": 3
   },
   "file_extension": ".py",
   "mimetype": "text/x-python",
   "name": "python",
   "nbconvert_exporter": "python",
   "pygments_lexer": "ipython3",
   "version": "3.7.9"
  },
  "vscode": {
   "interpreter": {
    "hash": "5109d816b82be14675a6b11f8e0f0d2e80f029176ed3710d54e125caa8520dfd"
   }
  }
 },
 "nbformat": 4,
 "nbformat_minor": 4
}
